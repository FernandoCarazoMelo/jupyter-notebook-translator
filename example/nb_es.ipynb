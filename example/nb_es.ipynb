{
 "cells": [
  {
   "cell_type": "markdown",
   "id": "3d2421eb",
   "metadata": {},
   "source": [
    "# 00. Fundamentos de PyTorch\n",
    "\n",
    "## ¿Qué es PyTorch?\n",
    "\n",
    "[PyTorch](https://pytorch.org/) es un marco de aprendizaje automático y aprendizaje profundo de código abierto."
   ]
  },
  {
   "cell_type": "markdown",
   "id": "5ffaaef3",
   "metadata": {},
   "source": [
    "## Importando PyTorch\n",
    "\n",
    "> **Nota:** Antes de ejecutar cualquier código de este cuaderno, debería haber seguido los [pasos de configuración de PyTorch](https://pytorch.org/get-started/locally/). \n",
    ">\n",
    "> Sin embargo, **si estás ejecutando Google Colab**, todo debería funcionar (Google Colab viene con PyTorch y otras bibliotecas instaladas).\n",
    "\n",
    "Comencemos importando PyTorch y verificando la versión que estamos usando."
   ]
  },
  {
   "cell_type": "code",
   "execution_count": null,
   "id": "f1446849",
   "metadata": {},
   "outputs": [],
   "source": [
    "# Importar la biblioteca de antorchas\n",
    "import torch\n",
    "torch.__version__"
   ]
  }
 ],
 "metadata": {},
 "nbformat": 4,
 "nbformat_minor": 5
}
